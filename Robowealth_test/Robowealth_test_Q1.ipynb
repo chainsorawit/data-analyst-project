{
 "cells": [
  {
   "cell_type": "code",
   "execution_count": 1,
   "id": "8014cdff",
   "metadata": {},
   "outputs": [],
   "source": [
    "import pandas as pd"
   ]
  },
  {
   "cell_type": "code",
   "execution_count": 28,
   "id": "bb47d3c3",
   "metadata": {},
   "outputs": [],
   "source": [
    "# Load data into a pandas DataFrame\n",
    "df = pd.read_csv('data1-fund_nav.csv')"
   ]
  },
  {
   "cell_type": "code",
   "execution_count": 30,
   "id": "6ac88834",
   "metadata": {},
   "outputs": [
    {
     "data": {
      "text/html": [
       "<div>\n",
       "<style scoped>\n",
       "    .dataframe tbody tr th:only-of-type {\n",
       "        vertical-align: middle;\n",
       "    }\n",
       "\n",
       "    .dataframe tbody tr th {\n",
       "        vertical-align: top;\n",
       "    }\n",
       "\n",
       "    .dataframe thead th {\n",
       "        text-align: right;\n",
       "    }\n",
       "</style>\n",
       "<table border=\"1\" class=\"dataframe\">\n",
       "  <thead>\n",
       "    <tr style=\"text-align: right;\">\n",
       "      <th></th>\n",
       "      <th>nav_date</th>\n",
       "      <th>fund_code</th>\n",
       "      <th>amc_code</th>\n",
       "      <th>nav</th>\n",
       "    </tr>\n",
       "  </thead>\n",
       "  <tbody>\n",
       "    <tr>\n",
       "      <th>0</th>\n",
       "      <td>2020-09-25</td>\n",
       "      <td>PWIN</td>\n",
       "      <td>PAMC</td>\n",
       "      <td>15.9151</td>\n",
       "    </tr>\n",
       "    <tr>\n",
       "      <th>1</th>\n",
       "      <td>2020-09-28</td>\n",
       "      <td>PRINCIPAL VNEQ-A</td>\n",
       "      <td>PRINCIPAL</td>\n",
       "      <td>8.2898</td>\n",
       "    </tr>\n",
       "    <tr>\n",
       "      <th>2</th>\n",
       "      <td>2020-09-28</td>\n",
       "      <td>TLDIVRMF</td>\n",
       "      <td>TALISAM</td>\n",
       "      <td>7.4220</td>\n",
       "    </tr>\n",
       "    <tr>\n",
       "      <th>3</th>\n",
       "      <td>2020-09-25</td>\n",
       "      <td>TMBGPROP</td>\n",
       "      <td>TMBAM</td>\n",
       "      <td>8.0741</td>\n",
       "    </tr>\n",
       "    <tr>\n",
       "      <th>4</th>\n",
       "      <td>2020-09-25</td>\n",
       "      <td>GC</td>\n",
       "      <td>UOBAM</td>\n",
       "      <td>17.4287</td>\n",
       "    </tr>\n",
       "  </tbody>\n",
       "</table>\n",
       "</div>"
      ],
      "text/plain": [
       "    nav_date         fund_code   amc_code      nav\n",
       "0 2020-09-25              PWIN       PAMC  15.9151\n",
       "1 2020-09-28  PRINCIPAL VNEQ-A  PRINCIPAL   8.2898\n",
       "2 2020-09-28          TLDIVRMF    TALISAM   7.4220\n",
       "3 2020-09-25          TMBGPROP      TMBAM   8.0741\n",
       "4 2020-09-25                GC      UOBAM  17.4287"
      ]
     },
     "execution_count": 30,
     "metadata": {},
     "output_type": "execute_result"
    }
   ],
   "source": [
    "# Convert date strings to datetime objects\n",
    "df['nav_date'] = pd.to_datetime(df['nav_date'], format='%Y%m%d')\n",
    "df.head()"
   ]
  },
  {
   "cell_type": "code",
   "execution_count": 31,
   "id": "c50064fe",
   "metadata": {},
   "outputs": [],
   "source": [
    "# Calculate daily returns\n",
    "df['daily_return'] = df.groupby('fund_code')['nav'].pct_change()"
   ]
  },
  {
   "cell_type": "code",
   "execution_count": 32,
   "id": "783fe36a",
   "metadata": {},
   "outputs": [],
   "source": [
    "# Calculate monthly returns and reset the index\n",
    "\n",
    "monthly_returns = df.groupby(['fund_code', pd.Grouper(key='nav_date', freq='MS')])['nav'].agg(lambda x: x.iloc[-1] / x.iloc[0] - 1).reset_index()\n",
    "monthly_returns.rename(columns={'nav': 'monthly_return'}, inplace=True)\n"
   ]
  },
  {
   "cell_type": "code",
   "execution_count": 33,
   "id": "4a5bca89",
   "metadata": {},
   "outputs": [],
   "source": [
    "# Calculate annualized daily returns\n",
    "annualized_daily_returns = df.groupby(['fund_code', pd.Grouper(key='nav_date', freq='Y')])['daily_return'].agg(lambda x: (1 + x.mean()) ** 252 - 1).reset_index()\n",
    "annualized_daily_returns.rename(columns={'daily_return': 'annualized_daily_return'}, inplace=True)\n",
    "annualized_daily_returns['annualized_daily_return'] = annualized_daily_returns['annualized_daily_return'] * 100\n",
    "\n"
   ]
  },
  {
   "cell_type": "code",
   "execution_count": 34,
   "id": "75c1a34d",
   "metadata": {},
   "outputs": [],
   "source": [
    "# Calculate annualized monthly returns\n",
    "annualized_monthly_returns = monthly_returns.groupby(['fund_code', pd.Grouper(key='nav_date', freq='Y')])['monthly_return'].agg(lambda x: (1 + x.mean()) ** 12 - 1).reset_index()\n",
    "annualized_monthly_returns.rename(columns={'monthly_return': 'annualized_monthly_return'}, inplace=True)\n",
    "annualized_monthly_returns['annualized_monthly_return'] = annualized_monthly_returns['annualized_monthly_return'] * 100\n"
   ]
  },
  {
   "cell_type": "code",
   "execution_count": 37,
   "id": "29772778",
   "metadata": {},
   "outputs": [],
   "source": [
    "# Merge annualized returns into a single DataFrame\n",
    "returns = pd.merge(annualized_daily_returns, annualized_monthly_returns, on=['nav_date','fund_code'], how='outer')\n",
    "returns = returns.sort_values(['fund_code', 'nav_date'])"
   ]
  },
  {
   "cell_type": "code",
   "execution_count": 38,
   "id": "f8b0aac0",
   "metadata": {},
   "outputs": [
    {
     "name": "stdout",
     "output_type": "stream",
     "text": [
      "           fund_code   nav_date  annualized_daily_return  \\\n",
      "0                 GC 2020-12-31                 7.567401   \n",
      "1                 GC 2021-12-31                 1.111412   \n",
      "2                 GC 2022-12-31                -8.018249   \n",
      "3                 GC 2023-12-31                 3.854291   \n",
      "4   PRINCIPAL VNEQ-A 2020-12-31                11.662638   \n",
      "5   PRINCIPAL VNEQ-A 2021-12-31                 8.182440   \n",
      "6   PRINCIPAL VNEQ-A 2022-12-31                -5.992248   \n",
      "7   PRINCIPAL VNEQ-A 2023-12-31                -0.098279   \n",
      "8               PWIN 2020-12-31                16.357447   \n",
      "9               PWIN 2021-12-31                 2.096523   \n",
      "10              PWIN 2022-12-31                -4.849854   \n",
      "11              PWIN 2023-12-31                 5.319035   \n",
      "12          TLDIVRMF 2020-12-31                 6.937904   \n",
      "13          TLDIVRMF 2021-12-31                 4.980561   \n",
      "14          TLDIVRMF 2022-12-31                -0.588291   \n",
      "15          TLDIVRMF 2023-12-31                -0.123801   \n",
      "16          TLMSEQ-A 2022-12-31                -5.201193   \n",
      "17          TLMSEQ-A 2023-12-31                -0.880758   \n",
      "18          TMBGPROP 2020-12-31                 9.638848   \n",
      "19          TMBGPROP 2021-12-31                 3.768876   \n",
      "20          TMBGPROP 2022-12-31                -4.748261   \n",
      "21          TMBGPROP 2023-12-31                 3.946364   \n",
      "\n",
      "    annualized_monthly_return  \n",
      "0                   14.760123  \n",
      "1                   -4.306486  \n",
      "2                  -33.650383  \n",
      "3                   -6.432863  \n",
      "4                   51.650909  \n",
      "5                   38.793074  \n",
      "6                  -31.324493  \n",
      "7                   -3.188160  \n",
      "8                   78.471625  \n",
      "9                    8.452747  \n",
      "10                 -27.097091  \n",
      "11                  28.643932  \n",
      "12                  24.776489  \n",
      "13                  27.962581  \n",
      "14                  -0.447694  \n",
      "15                  -7.907692  \n",
      "16                 -23.370835  \n",
      "17                  -9.404545  \n",
      "18                  30.986090  \n",
      "19                  24.762918  \n",
      "20                 -24.312819  \n",
      "21                  16.766675  \n"
     ]
    }
   ],
   "source": [
    "# Output results\n",
    "print(returns)"
   ]
  },
  {
   "cell_type": "code",
   "execution_count": null,
   "id": "8d3272b5",
   "metadata": {},
   "outputs": [],
   "source": []
  }
 ],
 "metadata": {
  "kernelspec": {
   "display_name": "Python 3 (ipykernel)",
   "language": "python",
   "name": "python3"
  },
  "language_info": {
   "codemirror_mode": {
    "name": "ipython",
    "version": 3
   },
   "file_extension": ".py",
   "mimetype": "text/x-python",
   "name": "python",
   "nbconvert_exporter": "python",
   "pygments_lexer": "ipython3",
   "version": "3.9.13"
  }
 },
 "nbformat": 4,
 "nbformat_minor": 5
}
