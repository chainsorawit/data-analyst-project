{
 "cells": [
  {
   "cell_type": "code",
   "execution_count": 18,
   "id": "1e8eaaf8",
   "metadata": {},
   "outputs": [],
   "source": [
    "import pandas as pd"
   ]
  },
  {
   "cell_type": "code",
   "execution_count": 19,
   "id": "5f0fa655",
   "metadata": {},
   "outputs": [],
   "source": [
    "# Load data into a pandas DataFrame\n",
    "data2 = pd.read_csv('data2.csv', encoding='cp874')\n",
    "data3 = pd.read_csv('data3.csv', encoding='cp874')"
   ]
  },
  {
   "cell_type": "code",
   "execution_count": 20,
   "id": "15d382c6",
   "metadata": {},
   "outputs": [],
   "source": [
    "# Merge data2 and data3 on 'fund_code'\n",
    "df = pd.merge(data2, data3, on='fund_code')"
   ]
  },
  {
   "cell_type": "code",
   "execution_count": 21,
   "id": "0848a2e8",
   "metadata": {},
   "outputs": [],
   "source": [
    "# Remove rows where 'amc_category' is null\n",
    "df = df[df['amc_category'].notnull()]"
   ]
  },
  {
   "cell_type": "code",
   "execution_count": 22,
   "id": "ecb140f9",
   "metadata": {},
   "outputs": [],
   "source": [
    "# Create a new column with the maximum 'created_at' value for each account_id and fund_code\n",
    "df['max_create_at'] = df.groupby(['account_id', 'fund_code'])['created_at'].transform('max')\n"
   ]
  },
  {
   "cell_type": "code",
   "execution_count": 23,
   "id": "1016f384",
   "metadata": {},
   "outputs": [],
   "source": [
    "# Select rows where 'created_at' equals 'max_create_at'\n",
    "result = df[df['created_at'] == df['max_create_at']]"
   ]
  },
  {
   "cell_type": "code",
   "execution_count": 24,
   "id": "56d9e009",
   "metadata": {},
   "outputs": [],
   "source": [
    "# Group the results by account_id, fund_code, and created_at to remove duplicates\n",
    "result = result.groupby(['account_id', 'fund_code', 'created_at']).first().reset_index()\n"
   ]
  },
  {
   "cell_type": "code",
   "execution_count": 25,
   "id": "133841d4",
   "metadata": {},
   "outputs": [],
   "source": [
    "# Select only the desired columns\n",
    "result = result.loc[:, ['account_id', 'fund_code', 'fund_name_th', 'fund_name_en', 'amc_category', 'amount', 'unitbalance', 'created_at']]"
   ]
  },
  {
   "cell_type": "code",
   "execution_count": 26,
   "id": "bd3ebc93",
   "metadata": {},
   "outputs": [
    {
     "name": "stdout",
     "output_type": "stream",
     "text": [
      "  account_id         fund_code  \\\n",
      "0     ROBO01                GC   \n",
      "1     ROBO02                GC   \n",
      "2     ROBO02  PRINCIPAL VNEQ-A   \n",
      "3     ROBO02              PWIN   \n",
      "4     ROBO02          TLDIVRMF   \n",
      "5     ROBO02          TLMSEQ-A   \n",
      "6     ROBO02          TMBGPROP   \n",
      "\n",
      "                                        fund_name_th  \\\n",
      "0                         กองทุนเปิด เกรธเธอร์ ไชน่า   \n",
      "1                         กองทุนเปิด เกรธเธอร์ ไชน่า   \n",
      "2  กองทุนเปิดพรินซิเพิล เวียดนาม อิควิตี้ ชนิดสะส...   \n",
      "3                  กองทุนเปิดฟิลลิปเวิลด์อินโนเวชั่น   \n",
      "4   กองทุนเปิดทาลิส DIVIDEND STOCK เพื่อการเลี้ยงชีพ   \n",
      "5  กองทุนเปิดทาลิส MID-SMALL CAP หุ้นทุน ชนิดสะสม...   \n",
      "6                 กองทุนเปิดทีเอ็มบี Global Property   \n",
      "\n",
      "                      fund_name_en                     amc_category   amount  \\\n",
      "0               Greater China Fund             Greater China Equity   126.40   \n",
      "1               Greater China Fund             Greater China Equity  1243.27   \n",
      "2    Principal Vietnam Equity Fund                   Vietnam Equity     0.00   \n",
      "3    PHILLIP WORLD INNOVATION FUND                    Global Equity   858.70   \n",
      "4         TALIS DIVIDEND STOCK RMF                   Equity General   998.20   \n",
      "5  TALIS MID-SMALL CAP EQUITY FUND           Equity Small - Mid Cap     0.00   \n",
      "6         TMB Global Property Fund  Fund of Property Fund - Foreign   160.97   \n",
      "\n",
      "   unitbalance         created_at  \n",
      "0       9.6419  2/9/2023 16:16:17  \n",
      "1      94.8347  2/9/2023 16:16:17  \n",
      "2       0.0000  2/9/2023 16:15:37  \n",
      "3      52.0364  2/9/2023 16:19:23  \n",
      "4      94.8604  2/9/2023 16:19:37  \n",
      "5       0.0000  2/9/2023 16:19:37  \n",
      "6      17.4483  2/9/2023 16:17:56  \n"
     ]
    }
   ],
   "source": [
    "# Display the result\n",
    "print(result)"
   ]
  },
  {
   "cell_type": "code",
   "execution_count": null,
   "id": "f4f2b77d",
   "metadata": {},
   "outputs": [],
   "source": []
  }
 ],
 "metadata": {
  "kernelspec": {
   "display_name": "Python 3 (ipykernel)",
   "language": "python",
   "name": "python3"
  },
  "language_info": {
   "codemirror_mode": {
    "name": "ipython",
    "version": 3
   },
   "file_extension": ".py",
   "mimetype": "text/x-python",
   "name": "python",
   "nbconvert_exporter": "python",
   "pygments_lexer": "ipython3",
   "version": "3.9.13"
  }
 },
 "nbformat": 4,
 "nbformat_minor": 5
}
